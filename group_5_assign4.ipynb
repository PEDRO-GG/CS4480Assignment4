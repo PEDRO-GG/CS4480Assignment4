{
 "cells": [
  {
   "cell_type": "code",
   "execution_count": null,
   "metadata": {},
   "outputs": [],
   "source": [
    "import copy\n",
    "import time"
   ]
  },
  {
   "cell_type": "code",
   "execution_count": null,
   "metadata": {},
   "outputs": [],
   "source": [
    "class Game(object):\n",
    "    \"\"\"A tic-tac-toe game.\"\"\"\n",
    "\n",
    "    def __init__(self, grid):\n",
    "        \"\"\"Instances differ by their grid marks.\"\"\"\n",
    "        self.grid = copy.deepcopy(grid) # No aliasing!\n",
    "\n",
    "    def display(self):\n",
    "        \"\"\"Print the game board.\"\"\"\n",
    "        for row in self.grid:\n",
    "            print(row)\n",
    "\n",
    "    def moves(self):\n",
    "        \"\"\"Return a list of possible moves given the current marks.\"\"\"\n",
    "        # YOU FILL THIS IN\n",
    "        # YOU FILL THIS IN\n",
    "        #Basically, check which space has - and return that this is a\n",
    "        #a possible move. We will use it afterwards with minimax\n",
    "        #returns the pair of possible locations\n",
    "\n",
    "\n",
    "    def neighbor(self, move, mark):\n",
    "        \"\"\"Return a Game instance like this one but with one move made.\"\"\"\n",
    "        # YOU FILL THIS IN\n",
    "\n",
    "    def utility(self):\n",
    "        \"\"\"Return the minimax utility value of this game:\n",
    "        1 = X win, -1 = O win, 0 = tie, None = not over yet.\"\"\"\n",
    "        # YOU FILL THIS IN\n",
    "        # for utility here, check the code from this link\n",
    "        #http://www.sarathlakshman.com/2011/04/29/writing-a-tic-tac\n",
    "        #to calculate the utility of this current board.\n",
    "       "
   ]
  },
  {
   "cell_type": "code",
   "execution_count": null,
   "metadata": {},
   "outputs": [],
   "source": [
    "class Agent(object):\n",
    "    \"\"\"Knows how to play tic-tac-toe.\"\"\"\n",
    "\n",
    "    def __init__(self, mark):\n",
    "        \"\"\"Agents use either X or O.\"\"\"\n",
    "        self.mark = mark\n",
    "\n",
    "    def maxvalue(self, game, opponent):\n",
    "        \"\"\"Compute the highest utility this game can have.\"\"\"\n",
    "        # YOU FILL THIS IN\n",
    "\n",
    "    def minvalue(self, game, opponent):\n",
    "        \"\"\"Compute the lowest utility this game can have.\"\"\"\n",
    "        # YOU FILL THIS IN\n"
   ]
  },
  {
   "cell_type": "code",
   "execution_count": null,
   "metadata": {},
   "outputs": [],
   "source": [
    "def main():\n",
    "    \"\"\"Create a game and have two agents play it.\"\"\"\n",
    "\n",
    "    game = Game([['-','-','-'], ['-','-','-'], ['-','-','-']])\n",
    "    game.display()\n",
    "\n",
    "    maxplayer = Agent('X')\n",
    "    minplayer = Agent('O')\n",
    "\n",
    "    while True:\n",
    "\n",
    "        (value, move) = maxplayer.maxvalue(game, minplayer)\n",
    "        game = game.neighbor(move, maxplayer.mark)\n",
    "        time.sleep(1)\n",
    "        game.display()\n",
    "        \n",
    "        if game.utility() is not None:\n",
    "            break\n",
    "        \n",
    "        (value, move) = minplayer.minvalue(game, maxplayer)\n",
    "        game = game.neighbor(move, minplayer.mark)\n",
    "        time.sleep(1)\n",
    "        game.display()\n",
    "        \n",
    "        if game.utility() is not None:\n",
    "            break\n",
    "\n",
    "if __name__ == '__main__':\n",
    "    main()"
   ]
  }
 ],
 "metadata": {
  "kernelspec": {
   "display_name": "Python 3",
   "language": "python",
   "name": "python3"
  },
  "language_info": {
   "codemirror_mode": {
    "name": "ipython",
    "version": 3
   },
   "file_extension": ".py",
   "mimetype": "text/x-python",
   "name": "python",
   "nbconvert_exporter": "python",
   "pygments_lexer": "ipython3",
   "version": "3.8.5"
  }
 },
 "nbformat": 4,
 "nbformat_minor": 4
}
